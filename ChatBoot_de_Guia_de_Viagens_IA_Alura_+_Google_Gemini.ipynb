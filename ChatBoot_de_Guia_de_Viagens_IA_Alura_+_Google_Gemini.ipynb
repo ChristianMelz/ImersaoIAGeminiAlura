{
  "nbformat": 4,
  "nbformat_minor": 0,
  "metadata": {
    "colab": {
      "provenance": [],
      "include_colab_link": true
    },
    "kernelspec": {
      "name": "python3",
      "display_name": "Python 3"
    },
    "language_info": {
      "name": "python"
    }
  },
  "cells": [
    {
      "cell_type": "markdown",
      "metadata": {
        "id": "view-in-github",
        "colab_type": "text"
      },
      "source": [
        "<a href=\"https://colab.research.google.com/github/ChristianMelz/ImersaoIAGeminiAlura/blob/main/ChatBoot_de_Guia_de_Viagens_IA_Alura_%2B_Google_Gemini.ipynb\" target=\"_parent\"><img src=\"https://colab.research.google.com/assets/colab-badge.svg\" alt=\"Open In Colab\"/></a>"
      ]
    },
    {
      "cell_type": "code",
      "source": [
        "%pip -q install google-genai"
      ],
      "metadata": {
        "id": "UCCbECexLk_h"
      },
      "execution_count": null,
      "outputs": []
    },
    {
      "cell_type": "code",
      "source": [
        "# Configura a API Key do Google Gemini\n",
        "\n",
        "import os\n",
        "from google.colab import userdata\n",
        "\n",
        "os.environ[\"GOOGLE_API_KEY\"] = userdata.get('GOOGLE_API_KEY')"
      ],
      "metadata": {
        "id": "NfCqHo1tLk8P"
      },
      "execution_count": null,
      "outputs": []
    },
    {
      "cell_type": "code",
      "source": [
        "# Configura o cliente da SDK do Gemini\n",
        "\n",
        "from google import genai\n",
        "\n",
        "client = genai.Client()\n",
        "\n",
        "MODEL_ID = \"gemini-2.0-flash\"\n"
      ],
      "metadata": {
        "id": "bV4w0H5TLk5g"
      },
      "execution_count": null,
      "outputs": []
    },
    {
      "cell_type": "code",
      "source": [
        "for model in client.models.list():\n",
        "    print(model.name)"
      ],
      "metadata": {
        "colab": {
          "base_uri": "https://localhost:8080/"
        },
        "id": "YphQhOdyq0en",
        "outputId": "139acadc-a1f0-40df-bb3f-a44dcda81991",
        "collapsed": true
      },
      "execution_count": null,
      "outputs": [
        {
          "output_type": "stream",
          "name": "stdout",
          "text": [
            "models/embedding-gecko-001\n",
            "models/gemini-1.0-pro-vision-latest\n",
            "models/gemini-pro-vision\n",
            "models/gemini-1.5-pro-latest\n",
            "models/gemini-1.5-pro-001\n",
            "models/gemini-1.5-pro-002\n",
            "models/gemini-1.5-pro\n",
            "models/gemini-1.5-flash-latest\n",
            "models/gemini-1.5-flash-001\n",
            "models/gemini-1.5-flash-001-tuning\n",
            "models/gemini-1.5-flash\n",
            "models/gemini-1.5-flash-002\n",
            "models/gemini-1.5-flash-8b\n",
            "models/gemini-1.5-flash-8b-001\n",
            "models/gemini-1.5-flash-8b-latest\n",
            "models/gemini-1.5-flash-8b-exp-0827\n",
            "models/gemini-1.5-flash-8b-exp-0924\n",
            "models/gemini-2.5-pro-exp-03-25\n",
            "models/gemini-2.5-pro-preview-03-25\n",
            "models/gemini-2.5-flash-preview-04-17\n",
            "models/gemini-2.5-flash-preview-04-17-thinking\n",
            "models/gemini-2.5-pro-preview-05-06\n",
            "models/gemini-2.0-flash-exp\n",
            "models/gemini-2.0-flash\n",
            "models/gemini-2.0-flash-001\n",
            "models/gemini-2.0-flash-lite-001\n",
            "models/gemini-2.0-flash-lite\n",
            "models/gemini-2.0-flash-lite-preview-02-05\n",
            "models/gemini-2.0-flash-lite-preview\n",
            "models/gemini-2.0-pro-exp\n",
            "models/gemini-2.0-pro-exp-02-05\n",
            "models/gemini-exp-1206\n",
            "models/gemini-2.0-flash-thinking-exp-01-21\n",
            "models/gemini-2.0-flash-thinking-exp\n",
            "models/gemini-2.0-flash-thinking-exp-1219\n",
            "models/learnlm-2.0-flash-experimental\n",
            "models/gemma-3-1b-it\n",
            "models/gemma-3-4b-it\n",
            "models/gemma-3-12b-it\n",
            "models/gemma-3-27b-it\n",
            "models/embedding-001\n",
            "models/text-embedding-004\n",
            "models/gemini-embedding-exp-03-07\n",
            "models/gemini-embedding-exp\n",
            "models/aqa\n",
            "models/imagen-3.0-generate-002\n",
            "models/gemini-2.0-flash-live-001\n"
          ]
        }
      ]
    },
    {
      "cell_type": "code",
      "source": [
        "# Instalar Framework ADK de agentes do Google ################################################\n",
        "%pip install google-adk"
      ],
      "metadata": {
        "id": "hvZ3UnPI4jhJ",
        "colab": {
          "base_uri": "https://localhost:8080/"
        },
        "outputId": "2cbb129f-b47a-4c88-f145-a4571739f6da",
        "collapsed": true
      },
      "execution_count": null,
      "outputs": [
        {
          "output_type": "stream",
          "name": "stdout",
          "text": [
            "Requirement already satisfied: google-adk in /usr/local/lib/python3.11/dist-packages (0.5.0)\n",
            "Requirement already satisfied: authlib>=1.5.1 in /usr/local/lib/python3.11/dist-packages (from google-adk) (1.5.2)\n",
            "Requirement already satisfied: click>=8.1.8 in /usr/local/lib/python3.11/dist-packages (from google-adk) (8.2.0)\n",
            "Requirement already satisfied: fastapi>=0.115.0 in /usr/local/lib/python3.11/dist-packages (from google-adk) (0.115.12)\n",
            "Requirement already satisfied: google-api-python-client>=2.157.0 in /usr/local/lib/python3.11/dist-packages (from google-adk) (2.169.0)\n",
            "Requirement already satisfied: google-cloud-aiplatform>=1.87.0 in /usr/local/lib/python3.11/dist-packages (from google-adk) (1.92.0)\n",
            "Requirement already satisfied: google-cloud-secret-manager>=2.22.0 in /usr/local/lib/python3.11/dist-packages (from google-adk) (2.23.3)\n",
            "Requirement already satisfied: google-cloud-speech>=2.30.0 in /usr/local/lib/python3.11/dist-packages (from google-adk) (2.32.0)\n",
            "Requirement already satisfied: google-cloud-storage<3.0.0,>=2.18.0 in /usr/local/lib/python3.11/dist-packages (from google-adk) (2.19.0)\n",
            "Requirement already satisfied: google-genai>=1.12.1 in /usr/local/lib/python3.11/dist-packages (from google-adk) (1.15.0)\n",
            "Requirement already satisfied: graphviz>=0.20.2 in /usr/local/lib/python3.11/dist-packages (from google-adk) (0.20.3)\n",
            "Requirement already satisfied: mcp>=1.5.0 in /usr/local/lib/python3.11/dist-packages (from google-adk) (1.9.0)\n",
            "Requirement already satisfied: opentelemetry-api>=1.31.0 in /usr/local/lib/python3.11/dist-packages (from google-adk) (1.33.1)\n",
            "Requirement already satisfied: opentelemetry-exporter-gcp-trace>=1.9.0 in /usr/local/lib/python3.11/dist-packages (from google-adk) (1.9.0)\n",
            "Requirement already satisfied: opentelemetry-sdk>=1.31.0 in /usr/local/lib/python3.11/dist-packages (from google-adk) (1.33.1)\n",
            "Requirement already satisfied: pydantic<3.0.0,>=2.0 in /usr/local/lib/python3.11/dist-packages (from google-adk) (2.11.4)\n",
            "Requirement already satisfied: python-dotenv>=1.0.0 in /usr/local/lib/python3.11/dist-packages (from google-adk) (1.1.0)\n",
            "Requirement already satisfied: PyYAML>=6.0.2 in /usr/local/lib/python3.11/dist-packages (from google-adk) (6.0.2)\n",
            "Requirement already satisfied: sqlalchemy>=2.0 in /usr/local/lib/python3.11/dist-packages (from google-adk) (2.0.40)\n",
            "Requirement already satisfied: tzlocal>=5.3 in /usr/local/lib/python3.11/dist-packages (from google-adk) (5.3.1)\n",
            "Requirement already satisfied: uvicorn>=0.34.0 in /usr/local/lib/python3.11/dist-packages (from google-adk) (0.34.2)\n",
            "Requirement already satisfied: cryptography in /usr/local/lib/python3.11/dist-packages (from authlib>=1.5.1->google-adk) (43.0.3)\n",
            "Requirement already satisfied: starlette<0.47.0,>=0.40.0 in /usr/local/lib/python3.11/dist-packages (from fastapi>=0.115.0->google-adk) (0.46.2)\n",
            "Requirement already satisfied: typing-extensions>=4.8.0 in /usr/local/lib/python3.11/dist-packages (from fastapi>=0.115.0->google-adk) (4.13.2)\n",
            "Requirement already satisfied: httplib2<1.0.0,>=0.19.0 in /usr/local/lib/python3.11/dist-packages (from google-api-python-client>=2.157.0->google-adk) (0.22.0)\n",
            "Requirement already satisfied: google-auth!=2.24.0,!=2.25.0,<3.0.0,>=1.32.0 in /usr/local/lib/python3.11/dist-packages (from google-api-python-client>=2.157.0->google-adk) (2.38.0)\n",
            "Requirement already satisfied: google-auth-httplib2<1.0.0,>=0.2.0 in /usr/local/lib/python3.11/dist-packages (from google-api-python-client>=2.157.0->google-adk) (0.2.0)\n",
            "Requirement already satisfied: google-api-core!=2.0.*,!=2.1.*,!=2.2.*,!=2.3.0,<3.0.0,>=1.31.5 in /usr/local/lib/python3.11/dist-packages (from google-api-python-client>=2.157.0->google-adk) (2.24.2)\n",
            "Requirement already satisfied: uritemplate<5,>=3.0.1 in /usr/local/lib/python3.11/dist-packages (from google-api-python-client>=2.157.0->google-adk) (4.1.1)\n",
            "Requirement already satisfied: proto-plus<2.0.0,>=1.22.3 in /usr/local/lib/python3.11/dist-packages (from google-cloud-aiplatform>=1.87.0->google-adk) (1.26.1)\n",
            "Requirement already satisfied: protobuf!=4.21.0,!=4.21.1,!=4.21.2,!=4.21.3,!=4.21.4,!=4.21.5,<7.0.0,>=3.20.2 in /usr/local/lib/python3.11/dist-packages (from google-cloud-aiplatform>=1.87.0->google-adk) (5.29.4)\n",
            "Requirement already satisfied: packaging>=14.3 in /usr/local/lib/python3.11/dist-packages (from google-cloud-aiplatform>=1.87.0->google-adk) (24.2)\n",
            "Requirement already satisfied: google-cloud-bigquery!=3.20.0,<4.0.0,>=1.15.0 in /usr/local/lib/python3.11/dist-packages (from google-cloud-aiplatform>=1.87.0->google-adk) (3.32.0)\n",
            "Requirement already satisfied: google-cloud-resource-manager<3.0.0,>=1.3.3 in /usr/local/lib/python3.11/dist-packages (from google-cloud-aiplatform>=1.87.0->google-adk) (1.14.2)\n",
            "Requirement already satisfied: shapely<3.0.0 in /usr/local/lib/python3.11/dist-packages (from google-cloud-aiplatform>=1.87.0->google-adk) (2.1.0)\n",
            "Requirement already satisfied: docstring-parser<1 in /usr/local/lib/python3.11/dist-packages (from google-cloud-aiplatform>=1.87.0->google-adk) (0.16)\n",
            "Requirement already satisfied: grpc-google-iam-v1<1.0.0,>=0.14.0 in /usr/local/lib/python3.11/dist-packages (from google-cloud-secret-manager>=2.22.0->google-adk) (0.14.2)\n",
            "Requirement already satisfied: google-cloud-core<3.0dev,>=2.3.0 in /usr/local/lib/python3.11/dist-packages (from google-cloud-storage<3.0.0,>=2.18.0->google-adk) (2.4.3)\n",
            "Requirement already satisfied: google-resumable-media>=2.7.2 in /usr/local/lib/python3.11/dist-packages (from google-cloud-storage<3.0.0,>=2.18.0->google-adk) (2.7.2)\n",
            "Requirement already satisfied: requests<3.0.0dev,>=2.18.0 in /usr/local/lib/python3.11/dist-packages (from google-cloud-storage<3.0.0,>=2.18.0->google-adk) (2.32.3)\n",
            "Requirement already satisfied: google-crc32c<2.0dev,>=1.0 in /usr/local/lib/python3.11/dist-packages (from google-cloud-storage<3.0.0,>=2.18.0->google-adk) (1.7.1)\n",
            "Requirement already satisfied: anyio<5.0.0,>=4.8.0 in /usr/local/lib/python3.11/dist-packages (from google-genai>=1.12.1->google-adk) (4.9.0)\n",
            "Requirement already satisfied: httpx<1.0.0,>=0.28.1 in /usr/local/lib/python3.11/dist-packages (from google-genai>=1.12.1->google-adk) (0.28.1)\n",
            "Requirement already satisfied: websockets<15.1.0,>=13.0.0 in /usr/local/lib/python3.11/dist-packages (from google-genai>=1.12.1->google-adk) (15.0.1)\n",
            "Requirement already satisfied: httpx-sse>=0.4 in /usr/local/lib/python3.11/dist-packages (from mcp>=1.5.0->google-adk) (0.4.0)\n",
            "Requirement already satisfied: pydantic-settings>=2.5.2 in /usr/local/lib/python3.11/dist-packages (from mcp>=1.5.0->google-adk) (2.9.1)\n",
            "Requirement already satisfied: python-multipart>=0.0.9 in /usr/local/lib/python3.11/dist-packages (from mcp>=1.5.0->google-adk) (0.0.20)\n",
            "Requirement already satisfied: sse-starlette>=1.6.1 in /usr/local/lib/python3.11/dist-packages (from mcp>=1.5.0->google-adk) (2.3.5)\n",
            "Requirement already satisfied: deprecated>=1.2.6 in /usr/local/lib/python3.11/dist-packages (from opentelemetry-api>=1.31.0->google-adk) (1.2.18)\n",
            "Requirement already satisfied: importlib-metadata<8.7.0,>=6.0 in /usr/local/lib/python3.11/dist-packages (from opentelemetry-api>=1.31.0->google-adk) (8.6.1)\n",
            "Requirement already satisfied: google-cloud-trace~=1.1 in /usr/local/lib/python3.11/dist-packages (from opentelemetry-exporter-gcp-trace>=1.9.0->google-adk) (1.16.1)\n",
            "Requirement already satisfied: opentelemetry-resourcedetector-gcp==1.*,>=1.5.0dev0 in /usr/local/lib/python3.11/dist-packages (from opentelemetry-exporter-gcp-trace>=1.9.0->google-adk) (1.9.0a0)\n",
            "Requirement already satisfied: opentelemetry-semantic-conventions==0.54b1 in /usr/local/lib/python3.11/dist-packages (from opentelemetry-sdk>=1.31.0->google-adk) (0.54b1)\n",
            "Requirement already satisfied: annotated-types>=0.6.0 in /usr/local/lib/python3.11/dist-packages (from pydantic<3.0.0,>=2.0->google-adk) (0.7.0)\n",
            "Requirement already satisfied: pydantic-core==2.33.2 in /usr/local/lib/python3.11/dist-packages (from pydantic<3.0.0,>=2.0->google-adk) (2.33.2)\n",
            "Requirement already satisfied: typing-inspection>=0.4.0 in /usr/local/lib/python3.11/dist-packages (from pydantic<3.0.0,>=2.0->google-adk) (0.4.0)\n",
            "Requirement already satisfied: greenlet>=1 in /usr/local/lib/python3.11/dist-packages (from sqlalchemy>=2.0->google-adk) (3.2.2)\n",
            "Requirement already satisfied: h11>=0.8 in /usr/local/lib/python3.11/dist-packages (from uvicorn>=0.34.0->google-adk) (0.16.0)\n",
            "Requirement already satisfied: idna>=2.8 in /usr/local/lib/python3.11/dist-packages (from anyio<5.0.0,>=4.8.0->google-genai>=1.12.1->google-adk) (3.10)\n",
            "Requirement already satisfied: sniffio>=1.1 in /usr/local/lib/python3.11/dist-packages (from anyio<5.0.0,>=4.8.0->google-genai>=1.12.1->google-adk) (1.3.1)\n",
            "Requirement already satisfied: wrapt<2,>=1.10 in /usr/local/lib/python3.11/dist-packages (from deprecated>=1.2.6->opentelemetry-api>=1.31.0->google-adk) (1.17.2)\n",
            "Requirement already satisfied: googleapis-common-protos<2.0.0,>=1.56.2 in /usr/local/lib/python3.11/dist-packages (from google-api-core!=2.0.*,!=2.1.*,!=2.2.*,!=2.3.0,<3.0.0,>=1.31.5->google-api-python-client>=2.157.0->google-adk) (1.70.0)\n",
            "Requirement already satisfied: grpcio<2.0dev,>=1.33.2 in /usr/local/lib/python3.11/dist-packages (from google-api-core[grpc]!=2.0.*,!=2.1.*,!=2.2.*,!=2.3.*,!=2.4.*,!=2.5.*,!=2.6.*,!=2.7.*,<3.0.0,>=1.34.1->google-cloud-aiplatform>=1.87.0->google-adk) (1.71.0)\n",
            "Requirement already satisfied: grpcio-status<2.0.dev0,>=1.33.2 in /usr/local/lib/python3.11/dist-packages (from google-api-core[grpc]!=2.0.*,!=2.1.*,!=2.2.*,!=2.3.*,!=2.4.*,!=2.5.*,!=2.6.*,!=2.7.*,<3.0.0,>=1.34.1->google-cloud-aiplatform>=1.87.0->google-adk) (1.71.0)\n",
            "Requirement already satisfied: cachetools<6.0,>=2.0.0 in /usr/local/lib/python3.11/dist-packages (from google-auth!=2.24.0,!=2.25.0,<3.0.0,>=1.32.0->google-api-python-client>=2.157.0->google-adk) (5.5.2)\n",
            "Requirement already satisfied: pyasn1-modules>=0.2.1 in /usr/local/lib/python3.11/dist-packages (from google-auth!=2.24.0,!=2.25.0,<3.0.0,>=1.32.0->google-api-python-client>=2.157.0->google-adk) (0.4.2)\n",
            "Requirement already satisfied: rsa<5,>=3.1.4 in /usr/local/lib/python3.11/dist-packages (from google-auth!=2.24.0,!=2.25.0,<3.0.0,>=1.32.0->google-api-python-client>=2.157.0->google-adk) (4.9.1)\n",
            "Requirement already satisfied: python-dateutil<3.0.0,>=2.8.2 in /usr/local/lib/python3.11/dist-packages (from google-cloud-bigquery!=3.20.0,<4.0.0,>=1.15.0->google-cloud-aiplatform>=1.87.0->google-adk) (2.9.0.post0)\n",
            "Requirement already satisfied: pyparsing!=3.0.0,!=3.0.1,!=3.0.2,!=3.0.3,<4,>=2.4.2 in /usr/local/lib/python3.11/dist-packages (from httplib2<1.0.0,>=0.19.0->google-api-python-client>=2.157.0->google-adk) (3.2.3)\n",
            "Requirement already satisfied: certifi in /usr/local/lib/python3.11/dist-packages (from httpx<1.0.0,>=0.28.1->google-genai>=1.12.1->google-adk) (2025.4.26)\n",
            "Requirement already satisfied: httpcore==1.* in /usr/local/lib/python3.11/dist-packages (from httpx<1.0.0,>=0.28.1->google-genai>=1.12.1->google-adk) (1.0.9)\n",
            "Requirement already satisfied: zipp>=3.20 in /usr/local/lib/python3.11/dist-packages (from importlib-metadata<8.7.0,>=6.0->opentelemetry-api>=1.31.0->google-adk) (3.21.0)\n",
            "Requirement already satisfied: charset-normalizer<4,>=2 in /usr/local/lib/python3.11/dist-packages (from requests<3.0.0dev,>=2.18.0->google-cloud-storage<3.0.0,>=2.18.0->google-adk) (3.4.2)\n",
            "Requirement already satisfied: urllib3<3,>=1.21.1 in /usr/local/lib/python3.11/dist-packages (from requests<3.0.0dev,>=2.18.0->google-cloud-storage<3.0.0,>=2.18.0->google-adk) (2.4.0)\n",
            "Requirement already satisfied: numpy>=1.21 in /usr/local/lib/python3.11/dist-packages (from shapely<3.0.0->google-cloud-aiplatform>=1.87.0->google-adk) (2.0.2)\n",
            "Requirement already satisfied: cffi>=1.12 in /usr/local/lib/python3.11/dist-packages (from cryptography->authlib>=1.5.1->google-adk) (1.17.1)\n",
            "Requirement already satisfied: pycparser in /usr/local/lib/python3.11/dist-packages (from cffi>=1.12->cryptography->authlib>=1.5.1->google-adk) (2.22)\n",
            "Requirement already satisfied: pyasn1<0.7.0,>=0.6.1 in /usr/local/lib/python3.11/dist-packages (from pyasn1-modules>=0.2.1->google-auth!=2.24.0,!=2.25.0,<3.0.0,>=1.32.0->google-api-python-client>=2.157.0->google-adk) (0.6.1)\n",
            "Requirement already satisfied: six>=1.5 in /usr/local/lib/python3.11/dist-packages (from python-dateutil<3.0.0,>=2.8.2->google-cloud-bigquery!=3.20.0,<4.0.0,>=1.15.0->google-cloud-aiplatform>=1.87.0->google-adk) (1.17.0)\n"
          ]
        }
      ]
    },
    {
      "cell_type": "code",
      "execution_count": null,
      "metadata": {
        "id": "aePV2bdfDeoW",
        "colab": {
          "base_uri": "https://localhost:8080/"
        },
        "collapsed": true,
        "outputId": "0cefc15e-b919-4d7b-8140-a05509b4598b"
      },
      "outputs": [
        {
          "output_type": "stream",
          "name": "stdout",
          "text": [
            "models/embedding-gecko-001\n",
            "models/gemini-1.0-pro-vision-latest\n",
            "models/gemini-pro-vision\n",
            "models/gemini-1.5-pro-latest\n",
            "models/gemini-1.5-pro-001\n",
            "models/gemini-1.5-pro-002\n",
            "models/gemini-1.5-pro\n",
            "models/gemini-1.5-flash-latest\n",
            "models/gemini-1.5-flash-001\n",
            "models/gemini-1.5-flash-001-tuning\n",
            "models/gemini-1.5-flash\n",
            "models/gemini-1.5-flash-002\n",
            "models/gemini-1.5-flash-8b\n",
            "models/gemini-1.5-flash-8b-001\n",
            "models/gemini-1.5-flash-8b-latest\n",
            "models/gemini-1.5-flash-8b-exp-0827\n",
            "models/gemini-1.5-flash-8b-exp-0924\n",
            "models/gemini-2.5-pro-exp-03-25\n",
            "models/gemini-2.5-pro-preview-03-25\n",
            "models/gemini-2.5-flash-preview-04-17\n",
            "models/gemini-2.5-flash-preview-04-17-thinking\n",
            "models/gemini-2.5-pro-preview-05-06\n",
            "models/gemini-2.0-flash-exp\n",
            "models/gemini-2.0-flash\n",
            "models/gemini-2.0-flash-001\n",
            "models/gemini-2.0-flash-lite-001\n",
            "models/gemini-2.0-flash-lite\n",
            "models/gemini-2.0-flash-lite-preview-02-05\n",
            "models/gemini-2.0-flash-lite-preview\n",
            "models/gemini-2.0-pro-exp\n",
            "models/gemini-2.0-pro-exp-02-05\n",
            "models/gemini-exp-1206\n",
            "models/gemini-2.0-flash-thinking-exp-01-21\n",
            "models/gemini-2.0-flash-thinking-exp\n",
            "models/gemini-2.0-flash-thinking-exp-1219\n",
            "models/learnlm-2.0-flash-experimental\n",
            "models/gemma-3-1b-it\n",
            "models/gemma-3-4b-it\n",
            "models/gemma-3-12b-it\n",
            "models/gemma-3-27b-it\n",
            "models/embedding-001\n",
            "models/text-embedding-004\n",
            "models/gemini-embedding-exp-03-07\n",
            "models/gemini-embedding-exp\n",
            "models/aqa\n",
            "models/imagen-3.0-generate-002\n",
            "models/gemini-2.0-flash-live-001\n"
          ]
        }
      ],
      "source": [
        "from google.adk.agents import Agent\n",
        "from google.adk.runners import Runner\n",
        "from google.adk.sessions import InMemorySessionService\n",
        "from google.adk.tools import google_search\n",
        "from google.genai import types  # Para criar conteúdos (Content e Part)\n",
        "from google import genai\n",
        "client = genai.Client()\n",
        "from IPython.display import HTML, Markdown\n",
        "from datetime import date\n",
        "import textwrap # Para formatar melhor a saída de texto\n",
        "from IPython.display import display, Markdown # Para exibir texto formatado no Colab\n",
        "import requests # Para fazer requisições HTTP\n",
        "import warnings\n",
        "for model in client.models.list():\n",
        "  print(model.name)\n",
        "  modelo = \"models/gemini-2.0-flash\"\n",
        "warnings.filterwarnings(\"ignore\")"
      ]
    },
    {
      "cell_type": "code",
      "source": [
        "# Função auxiliar que envia uma mensagem para um agente via Runner e retorna a resposta final\n",
        "def call_agent(agent: Agent, message_text: str) -> str:\n",
        "    # Cria um serviço de sessão em memória\n",
        "    session_service = InMemorySessionService()\n",
        "    # Cria uma nova sessão (você pode personalizar os IDs conforme necessário)\n",
        "    session = session_service.create_session(app_name=agent.name, user_id=\"user1\", session_id=\"session1\")\n",
        "    # Cria um Runner para o agente\n",
        "    runner = Runner(agent=agent, app_name=agent.name, session_service=session_service)\n",
        "    # Cria o conteúdo da mensagem de entrada\n",
        "    content = types.Content(role=\"user\", parts=[types.Part(text=message_text)])\n",
        "\n",
        "    final_response = \"\"\n",
        "    # Itera assincronamente pelos eventos retornados durante a execução do agente\n",
        "    for event in runner.run(user_id=\"user1\", session_id=\"session1\", new_message=content):\n",
        "        if event.is_final_response():\n",
        "          for part in event.content.parts:\n",
        "            if part.text is not None:\n",
        "              final_response += part.text\n",
        "              final_response += \"\\n\"\n",
        "    return final_response"
      ],
      "metadata": {
        "id": "_xP4lWhsS5ko"
      },
      "execution_count": null,
      "outputs": []
    },
    {
      "cell_type": "code",
      "source": [
        "# Função auxiliar para exibir texto formatado em Markdown no Colab\n",
        "def to_markdown(text):\n",
        "  text = text.replace('•', '  *')\n",
        "  return Markdown(textwrap.indent(text, '> ', predicate=lambda _: True))"
      ],
      "metadata": {
        "id": "8dosiodaxfFR"
      },
      "execution_count": null,
      "outputs": []
    },
    {
      "cell_type": "code",
      "source": [
        "def contem_apenas_letras_e_espacos(texto):\n",
        "    for char in texto:\n",
        "        if not (char.isalpha() or char.isspace()):\n",
        "            return False\n",
        "    return True"
      ],
      "metadata": {
        "id": "ewwrXYL7qDpw"
      },
      "execution_count": null,
      "outputs": []
    },
    {
      "cell_type": "code",
      "source": [
        "def obter_detalhes_multilinhas():\n",
        "    print(\"Vamos Aprimorar a nossa pesquisa, baseado no que visse, me diga o que mais te interessou.\")\n",
        "    print(\" Digite 'FIM' quando terminar:\")\n",
        "    linhas = []\n",
        "    while True:\n",
        "      linha = input()\n",
        "      if linha.upper() == \"FIM\":\n",
        "          break\n",
        "      linhas.append(linha)\n",
        "    return \"\\n\".join(linhas)"
      ],
      "metadata": {
        "id": "tbQapm2C6ww-"
      },
      "execution_count": null,
      "outputs": []
    },
    {
      "cell_type": "code",
      "source": [
        "from google.genai import types\n",
        "\n",
        "chat_config = types.GenerateContentConfig(\n",
        "    system_instruction=\"'Você é um assistente pessoal, e você sempre responde de forma sucinta!\"\n",
        ")\n",
        "\n",
        "chat = client.chats.create(model=modelo, config=chat_config)\n"
      ],
      "metadata": {
        "id": "FwerMpelLUes"
      },
      "execution_count": null,
      "outputs": []
    },
    {
      "cell_type": "code",
      "source": [
        "############################################\n",
        "# --- Agente 1: Coletor de Informações --- #\n",
        "############################################\n",
        "\n",
        "def agente_coletor(nome_do_cliente, destino, local_partida, data_de_hoje, valor_orcamento, data_inicia_viajem, data_finaliza_viajem, mais_detalhe, quant_pessoa):\n",
        "    coletor = Agent(\n",
        "        name=\"agente_coletor\",\n",
        "        model=\"gemini-2.5-flash-preview-04-17\",\n",
        "        description=\"Agente de coletar informações do Cliente\",\n",
        "        tools=[google_search],\n",
        "        instruction=\"\"\" Seu nome é GVIA,\n",
        "        Você é nosso Recepcionista para atender o melhor possível nosso cliente, onde vais buscar os dados do destino dele.\n",
        "        Vais estar coletando dados para que o agente de Opções possa dar opções para o Cliente\n",
        "        Caso ele não coloque Destino, informe para ele opções de destino conforme orçamento, dando exemplo e médias de preço para que ele possa se decidir.\n",
        "        Caso o orçamento não se encaixe diretamente para viajens para o destino na data solicitada, pesquise em outras datas para verificar se ele muda de idéia quanto ao periodo de escolha.\n",
        "        Busque saber do destino dele se na data que ele escolheu seria bom visitar o local ou nao, por exemplo, faz frio, época de muito movimento, clima quente, etc.\n",
        "        Sabendo que ele tem destino, veja o que ele tem de orçamento para a viajem, e já dêe opções com valores para ele escolher\n",
        "        leve em consideração as informações de se vai sozinho ou acomanhado, se tem criança ou não.\n",
        "        Vais tentar guiá-lo para um ótima experiência, entao sempre informe, se existir, opções de hospedagem e roteiros que sejam no caminho para o destino.\n",
        "        Outro detalhe, se a viajem for muito longa de carro por exemplo, você pode indicar para o cliente, ir de avião, ônibus, trem, etc e depois alugar o carro para maior liberdade.\n",
        "        Depois saiba se ele tem alguma regiao específica e procure indicar com link para que ele veja.\n",
        "        Indique destidos mais proximos ao valor disponível. Mencione neste tópico o preço para que ele possa se basear na busca.\n",
        "        Entenda que és o primeiro contado do cliente com nossa busca insana, então depois de coletar o melhor possível tudo será passado para o agente 2.\n",
        "        Outra coisa importante no planejamento é sabermos quando é a data desejada por ele.\n",
        "        o Cliente irá lhe informar nesse momento o Nome, local de partida, o destino (talvez ele deixe para voce dar opniões/opções), data do inicio da viajem e data de finalização da viajem.\n",
        "        Sempre disponibiize links pelo google (google_search) para ele se basear em suas buscas.\n",
        "        \"\"\"\n",
        "    )\n",
        "\n",
        "    entrada_do_agente_coletor= f\"Nome do Cliente: {nome_do_cliente}\\nDestino: {destino}\\nLocal de partida: {local_partida}\\nData de hoje: {data_de_hoje}\\nValor do orçamento: {valor_orcamento}\\nData da viagem: {data_inicia_viajem}\\nData de retorno: {data_finaliza_viajem}\"\n",
        "    lancamentos = call_agent(coletor, entrada_do_agente_coletor)\n",
        "    return display(Markdown(lancamentos))\n",
        "\n",
        "    # Executa o agente\n",
        "    ##data_de_hoje = date.today().strftime(\"%d/%m/%Y\")\n",
        "    ##data_viajem = date.day().strftime(\"%d/%m/%Y\")"
      ],
      "metadata": {
        "id": "UDdwX0u5EXys"
      },
      "execution_count": null,
      "outputs": []
    },
    {
      "cell_type": "code",
      "source": [
        "##########################################\n",
        "# --- Agente 2: Buscador de opções --- #\n",
        "##########################################\n",
        "\n",
        "def agente_de_opcoes(nome_do_cliente, destino, local_partida, data_de_hoje, valor_orcamento, data_inicia_viajem, data_finaliza_viajem, mais_detalhe, quant_pessoa):\n",
        "    opinador = Agent(\n",
        "        name=\"agente_opinador\",\n",
        "        model=\"gemini-2.5-flash-preview-04-17\",\n",
        "        description=\"Agente de buscar as opções para o Cliente\",\n",
        "        tools=[google_search],\n",
        "        instruction=\"\"\" Você é um assistente de pesquisa. A sua tarefa também usar a ferramenta de busca do google (google_search)\n",
        "        Para isso você vai coletar as informações do agente coletor e já dar pelo menos 5 opções de passeios para o cliente.\n",
        "        Nesse momento, foque em no máximo 5 passeios mais relevantes, com base na quantidade e entusiasmo das notícias sobre ele.\n",
        "        Se um tema tiver poucas notícias ou reações entusiasmadas, é possível que ele não seja tão relevante assim e pode ser\n",
        "        substituído por outro que tenha mais.\n",
        "        Para todos os temas, traga os links para que o cliente possa formar uma melhor opnião para o agente planejador.\n",
        "        Esses lançamentos relevantes devem ser atuais, de no máximo um mês antes da data de hoje.\n",
        "        Sempre se embase pesquisando pelo google (google_search) e liste links para ele aprimorar as escolhas.\n",
        "        \"\"\"\n",
        "    )\n",
        "\n",
        "    entrada_do_agente_opinador = f\"Nome do Cliente: {nome_do_cliente}\\nDestino: {destino}\\nLocal de partida: {local_partida}\\nData de hoje: {data_de_hoje}\\nValor do orçamento: {valor_orcamento}\\nData da viagem: {data_inicia_viajem}\\nData de retorno: {data_finaliza_viajem}\\nMais Detalhes: {mais_detalhes}\"\n",
        "    # Chama o agente e obtém o objeto de resposta completo\n",
        "    response_opinador = call_agent(opinador, entrada_do_agente_opinador)\n",
        "    # Retorna o objeto de resposta para que seu conteúdo possa ser acessado fora\n",
        "    return display(Markdown(response_opinador))"
      ],
      "metadata": {
        "id": "gd5ysx8hmixb"
      },
      "execution_count": null,
      "outputs": []
    },
    {
      "cell_type": "code",
      "source": [
        "################################################\n",
        "# --- Agente 3: Agente Planejador --- #\n",
        "################################################\n",
        "def agente_planejador(nome_do_cliente, destino, local_partida, data_de_hoje, valor_orcamento, data_inicia_viajem, data_finaliza_viajem, mais_detalhe, quant_pessoa):\n",
        "    planejador = Agent(\n",
        "        name=\"agente_Planejador\",\n",
        "        model=\"gemini-2.5-flash-preview-04-17\",\n",
        "        description=\"Agente que planeja posts\",\n",
        "        tools=[google_search],\n",
        "        # Inserir as instruções do Agente Planejador #################################################\n",
        "        instruction=\"\"\" Você é um aprimorador de pesquisa, especialista em redes sociais e achar os melhores preços para o que o cliente quer\n",
        "        Baseado no que o Agente 0 (Agente Coletor) e o Agente 1 (Agente Opinador) coletaram, vais refinar toda a busca. para isso o Cliente já nos direcionou pelo menos 2 vezes, então começe a fazer melhor e dê para ele links para pesquisar e ele te opnar o que ele quer.\n",
        "        Com isso, vais trazer as informações mais refinadas e sucintas para o cliente.\n",
        "        - Usar a ferramenta de busca do Google (google_seach) para criar um plano sobre quais os pontos mais relevantes que o cliente quer.\n",
        "        - Você também pode usar o (google_search) para encontrar mais informações sobre os temas e se aprofundar.\n",
        "        Ao final, você irá escolher o destino mais relevante entre eles com base nas suas pesquisas e retornar esse destino,\n",
        "        com seus valores de passagem (caso haver), valores dos passeios, hospedagens, etc.\n",
        "        vais estar dando o suprimento para o proximo agente então capricha e não enche linguiça, chega de rasgação de seda!\n",
        "        resuma as escolhas feitas pelo cliente, ou no final se ainda não conseguisse \"pescar\" o que ele quer para passar para  o agente 3 (Agente finalizador)\n",
        "        \"\"\"\n",
        "   )\n",
        "\n",
        "    entrada_do_agente_planejador =f\"Nome do Cliente: {nome_do_cliente}\\nDestino: {destino}\\nLocal de partida: {local_partida}\\nData de hoje: {data_de_hoje}\\nValor do orçamento: {valor_orcamento}\\nData da viagem: {data_inicia_viajem}\\nData de retorno: {data_finaliza_viajem}\\nMais Detalhes: {mais_detalhes}\"\n",
        "    # Executa o agente\n",
        "    plano_do_planejador = call_agent(planejador, entrada_do_agente_planejador)\n",
        "    return display(Markdown(plano_do_planejador))"
      ],
      "metadata": {
        "id": "y3VO1uo5_ghO"
      },
      "execution_count": null,
      "outputs": []
    },
    {
      "cell_type": "code",
      "source": [
        "######################################\n",
        "# --- Agente 4: Redator finalizador --- #\n",
        "######################################\n",
        "def agente_finalizador(nome_do_cliente, destino, local_partida, data_de_hoje, valor_orcamento, data_inicia_viajem, data_finaliza_viajem, mais_detalhe, quant_pessoa):\n",
        "    finalizador = Agent(\n",
        "        name=\"agente_finalizador\",\n",
        "        model=\"gemini-2.5-flash-preview-04-17\",\n",
        "        description=\"Agente redator de posts engajadores para Instagram\",\n",
        "        tools=[google_search],\n",
        "        instruction=\"\"\"\n",
        "            Agente 3, o finalizador, você é o cara!\n",
        "            Vais pegar o que todos os agentes anteriores levantaram para você, e simplesmente já dar a opção de passagens (caso exista), hospedagem, e os passeios.\n",
        "            Vais dar a ultima opnião sucinta, mas animadora como sempre, e perguntar se ele quer imprimir todas as nossas escolhas.\n",
        "            Você será breve e certeiro.\n",
        "            Depois o agente 4 vai efetuar a mostragem da tela com tudo o que ele levantou.\n",
        "            disponibilize para o cliente os links para ele efetuar as reservas, alem disso descreva os mesmos abaixo para ele copiar caso o link não funcione.\n",
        "            \"\"\"\n",
        "    )\n",
        "    entrada_do_agente_finalizador = f\"Nome do Cliente: {nome_do_cliente}\\nDestino: {destino}\\nLocal de partida: {local_partida}\\nData de hoje: {data_de_hoje}\\nValor do orçamento: {valor_orcamento}\\nData da viagem: {data_inicia_viajem}\\nData de retorno: {data_finaliza_viajem}\\nMais Detalhes: {mais_detalhes}\"\n",
        "    # Executa o agente\n",
        "    pre_escolha = call_agent(finalizador, entrada_do_agente_finalizador)\n",
        "    return display(Markdown(pre_escolha))"
      ],
      "metadata": {
        "id": "uOqlg2TRLVh1"
      },
      "execution_count": null,
      "outputs": []
    },
    {
      "cell_type": "code",
      "source": [
        "##########################################\n",
        "# --- Agente 5: Revisor e redator --- #\n",
        "##########################################\n",
        "def agente_revisor(nome_do_cliente, destino, local_partida, data_de_hoje, valor_orcamento, data_inicia_viajem, data_finaliza_viajem, mais_detalhe, quant_pessoa):\n",
        "    revisor = Agent(\n",
        "        name=\"agente_revisor\",\n",
        "        model=\"gemini-2.5-flash-preview-04-17\",\n",
        "        description=\"Agente revisor de post para redes sociais.\",\n",
        "        tools=[google_search],\n",
        "        instruction=\"\"\"\n",
        "            Você é um  Revisor meticuloso, especializado em dar as informações obtidas pelos seus amigos agentes de forma que o cliente possa imprimir o conteúdo sem muita poluição.\n",
        "            Por ter um público variado, analise a idade  e use um tom de escrita adequado.\n",
        "            Revise os itens dados pelos agentes e disponibilize organizadamente por topicos, tipo passagens:, hospedagem: , culinária: , roteiros: , etc.\n",
        "            Se as escolhas estiverem boas, finalize indicando a ótima escolha do roteiro e pergunte ao mesmo se deseja imprimir, e ou compartilhar.\n",
        "            Caso haja problemas, aponte-os e sugira melhorias.\n",
        "            Disponibilize uma planilha ou um PDF com as escolhas do cliente.\n",
        "            Não esqueça: disponibilize para o cliente os links do google (google_search) para ele efetuar as reservas, alem disso descreva os mesmos abaixo para ele copiar caso o link não funcione.\n",
        "\n",
        "            \"\"\"\n",
        "    )\n",
        "    entrada_do_agente_revisor = f\"Nome do Cliente: {nome_do_cliente}\\nDestino: {destino}\\nLocal de partida: {local_partida}\\nData de hoje: {data_de_hoje}\\nValor do orçamento: {valor_orcamento}\\nData da viagem: {data_inicia_viajem}\\nData de retorno: {data_finaliza_viajem}\\nMais Detalhes: {mais_detalhes}\"\n",
        "    # Executa o agente\n",
        "    roteiro_revisado = call_agent(revisor, entrada_do_agente_revisor)\n",
        "    return display(Markdown(roteiro_revisado))"
      ],
      "metadata": {
        "id": "_aTb1SdkLeT6"
      },
      "execution_count": null,
      "outputs": []
    },
    {
      "cell_type": "code",
      "source": [
        "\n",
        "##################################################################\n",
        "# Seria um guia para viajem, por exemplo, quero viajar para Jericoacoara,\n",
        "# mas não faço ideia de valores e o que tem lá, então a idéia seria de um\n",
        "# auxiliar de planejamento de viajem. Assim posso saber é a melhor época ou\n",
        "# não, se o valor que planejo é o suficiente.\n",
        "#\n",
        "# * Algumas funcionalidade não consegui aprimorar pois me faltou um pouco de tempo\n",
        "# mas sei que explica mas não justifica. grato pela atenção. E espero muito estar\n",
        "# de volta a programação!\n",
        "##################################################################\n",
        "\n",
        "\n",
        "data_de_hoje = date.today().strftime(\"%d/%m/%Y\")\n",
        "print(\"🚀 Coletando as Informações 🚀\")\n",
        "\n",
        "    # --- Apresentação  ---\n",
        "print(\"--------------------------------------------------\")\n",
        "print(\"Olá Me chamo GVIA, sou seu consultor de viajens!!\")\n",
        "print(\"--------------------------------------------------\")\n",
        "\n",
        "    # --- Solicitando Dados iniciais do Cliente para interação ---\n",
        "print(\"\\n\")\n",
        "nome_do_cliente = input(\"Para interagirmos melhor, poderia me Informar seu nome?\")\n",
        "if not nome_do_cliente:\n",
        " simounao = input(\"Desculpe, gostarias de continuar sem informar seu nome? digite (s) para Sim ou (n) para Não\")\n",
        " if simounao == ('n' or 'N' or 'não' or 'Não' or not simounao):\n",
        "   print(\"OK, Sr. Misterioso, vamos continuar a nossa Conversa\")\n",
        "   nome_do_cliente = \"Sr. Misterioso\"\n",
        " else:\n",
        "   nome_do_cliente = input(\"Então me informe seu Nome!\")\n",
        "   print(f'Prazer em te conhecer {nome_do_cliente}')\n",
        "else:\n",
        "  print(f'prazer em te conhecer {nome_do_cliente}')\n",
        "  idade_cliente = input (\"Poderia me informar a sua idade?\")\n",
        "\n",
        "\n",
        "    # --- Solicitando o Local de Partida ---\n",
        "\n",
        "print(\"\\n\")\n",
        "while True:\n",
        " local_partida = input(f\"Então {nome_do_cliente}, de onde partiremos? \")\n",
        " if  not local_partida:\n",
        "   print(\"Precisamos decidir de onde vamos Sair para nossa aventura! \")\n",
        "   local_partida = input(f\"Então {nome_do_cliente}, de onde partiremos? \")\n",
        " else:\n",
        "   if not contem_apenas_letras_e_espacos(local_partida):\n",
        "     print(\"Erro: O local só pode conter letras e espaços.\")\n",
        "     local_partida = input(f\"Então {nome_do_cliente}, de onde partiremos? \")\n",
        "   else:\n",
        "     print(f\"Ok {nome_do_cliente}, então sairemos de {local_partida}!\")\n",
        "   break\n",
        "#entrada_de_local_partida = f\"Local de partida: {local_partida}\"\n",
        "\n",
        "### - solicitando destino\n",
        "\n",
        "print(f\"Então {nome_do_cliente}, você já sabe seu destino? \")\n",
        "simounao2 = input(\" digite (s) para Sim ou (n) para Não \")\n",
        "if simounao2.lower() == 's' or simounao2.lower() == 'sim':\n",
        "  while True:\n",
        "    destino = input(\"Me diga os para onde vamos então: \")\n",
        "    if not destino:\n",
        "      print(\"Precisamos decidir de onde vamos Sair para nossa aventura! \")\n",
        "      destino = input(\"Me diga os para onde vamos então: \")\n",
        "    else:\n",
        "      if not contem_apenas_letras_e_espacos(destino):\n",
        "        print(\"Erro: O local só pode conter letras e espaços.\")\n",
        "        print(f\"Então {nome_do_cliente}, vamos tentar novamente\")\n",
        "        destino = input(\"Me diga os para onde vamos então: \")\n",
        "      else:\n",
        "        print(f\"Ok {nome_do_cliente}, então vamos para {destino}!\")\n",
        "      break\n",
        "else:\n",
        "  print(f\"Perfeito, não tens destino, vamos lá {nome_do_cliente}!\")\n",
        "  destino = \"\"\n",
        "\n",
        "\n",
        "# --- Solicitando a Data da Viajem ---\n",
        "\n",
        "print(\"Qual a data que começaremos nossas Férias?\")\n",
        "while True:\n",
        "  data_inicia_viajem = input(\"Digite a data no formato DD/MM/AAAA: \")\n",
        "  partes_da_data = data_inicia_viajem.split('/')\n",
        "\n",
        "  if len(partes_da_data) == 3 and \\\n",
        "    partes_da_data[0].isdigit() and len(partes_da_data[0]) == 2 and \\\n",
        "    partes_da_data[1].isdigit() and len(partes_da_data[1]) == 2 and \\\n",
        "    partes_da_data[2].isdigit() and len(partes_da_data[2]) == 4:\n",
        "    dia = partes_da_data[0]\n",
        "    mes = partes_da_data[1]\n",
        "    ano = partes_da_data[2]\n",
        "    print(f\"Ok, vamos buscar uma viajem para: {dia}/{mes}/{ano}\")\n",
        "    break  # Sai do loop se a data for válida\n",
        "  else:\n",
        "    print(\"Formato de data inválido. Por favor, use DD/MM/AAAA.\")\n",
        "\n",
        "# --- Solicitando a Data retorno Viajem ---\n",
        "\n",
        "\n",
        "print(\"Qual a data que retonamos das Férias?\")\n",
        "while True:\n",
        " data_finaliza_viajem = input(\"Digite a data no formato DD/MM/AAAA: \")\n",
        " partes_da_data = data_finaliza_viajem.split('/')\n",
        "\n",
        " if len(partes_da_data) == 3 and \\\n",
        "     partes_da_data[0].isdigit() and len(partes_da_data[0]) == 2 and \\\n",
        "     partes_da_data[1].isdigit() and len(partes_da_data[1]) == 2 and \\\n",
        "     partes_da_data[2].isdigit() and len(partes_da_data[2]) == 4:\n",
        "      dia = partes_da_data[0]\n",
        "      mes = partes_da_data[1]\n",
        "      ano = partes_da_data[2]\n",
        "      print(f\"Ok, vamos buscar uma viajem para: {dia}/{mes}/{ano}\")\n",
        "      break  # Sai do loop se a data for válida\n",
        " else:\n",
        "     print(\"Formato de data inválido. Por favor, use DD/MM/AAAA.\")\n",
        "\n",
        "## --- Solicitando dados iniciais para comecar as pesquisa\n",
        "\n",
        "simounaoacompanha = input(\"Vai viajar sozinho? (S)Sim ou (N)Não ?\" )\n",
        "if simounaoacompanha.lower() == 'n' or simounaoacompanha.lower() == 'não'  or simounaoacompanha.lower() == 'Não':\n",
        "   while True:\n",
        "    quant_pessoa = input(\"quantas pessoas vao viajar? \")\n",
        "    ##simounaocrianca = input(\"tem crianças menores que 8? (S)Sim ou (N)Não\")\n",
        "    ##if simounaocrianca.lower() == 's' or simounaocrianca.lower() == 'sim':\n",
        "    ## idade_crianca= input(\"qual a idade da criança? \")\n",
        "    ##else:\n",
        "    ##  idade_crianca = \"sem criança\"\n",
        "    break\n",
        "else:\n",
        "  quant_pessoa = \"1\"\n",
        "  ##idade_crianca = \"sem criança\"\n",
        "### ---- pedindo o Orcamento\n",
        "print(\"Agora vamos para uma pergunta bem Capiciosa, qual o seu orçamento para esta viagem?\")\n",
        "valor_orcamento = input(\"Digite o valor do orçamento:\")\n",
        "print(f\"para que eu possa refinar bem a nossa primeira busca, me fale o que esperas do Seu Passeio, o que já ouvisse e te chamou a atenção para quer conhecer {destino}\")\n",
        "print(\"Não esqueca de me informar se crianças vao no nosso passeio, quantidade e idade\")\n",
        "mais_detalhes = obter_detalhes_multilinhas()\n",
        "\n",
        "print(f\"Perfeito, vamos achar o destino para você se encaixando no orçamento de {valor_orcamento}!\")\n",
        "\n",
        "\n",
        "\n",
        "### --- colocando os agentes a trabalhar\n",
        "\n",
        "## - Agente 1\n",
        "lancamentos_coletados = agente_coletor(nome_do_cliente,destino, local_partida, data_de_hoje, valor_orcamento, data_inicia_viajem, data_finaliza_viajem, mais_detalhes, quant_pessoa)\n",
        "print(\"\\n_-- Resultado do Agente 1 (Coletor) ---\\n\")\n",
        "display(lancamentos_coletados)\n",
        "\n",
        "print(\"Vamos Aprimorar nossa pesquisa...\")\n",
        "\n",
        "mais_detalhes = obter_detalhes_multilinhas()\n",
        "\n",
        "print(\"\\n\")\n",
        "## - Agente 2\n",
        "lancamentos_opinador = agente_de_opcoes(nome_do_cliente,destino, local_partida, data_de_hoje, valor_orcamento, data_inicia_viajem, data_finaliza_viajem, mais_detalhes, quant_pessoa)\n",
        "print(\"\\n_-- Resultado do Agente 2  (Opinador) ---\\n\")\n",
        "display(lancamentos_opinador)\n",
        "\n",
        "mais_detalhes = obter_detalhes_multilinhas()\n",
        "print(\"\\n\")\n",
        "## - Agente 3\n",
        "lancamentos_planejador = agente_planejador(nome_do_cliente,destino, local_partida, data_de_hoje, valor_orcamento, data_inicia_viajem, data_finaliza_viajem, mais_detalhes, quant_pessoa)\n",
        "print(\"\\n_-- Resultado do Agente 3 (planejador) ---\\n\")\n",
        "display(lancamentos_planejador)\n",
        "\n",
        "mais_detalhes = obter_detalhes_multilinhas()\n",
        "print(\"\\n\")\n",
        "\n",
        "## - Agente 4\n",
        "lancamentos_finalizador = agente_finalizador(nome_do_cliente,destino, local_partida, data_de_hoje, valor_orcamento, data_inicia_viajem, data_finaliza_viajem, mais_detalhes, quant_pessoa)\n",
        "print(\"\\n_-- Resultado do Agente 4 (finalizador) ---\\n\")\n",
        "display(lancamentos_finalizador)\n",
        "\n",
        "mais_detalhes = obter_detalhes_multilinhas()\n",
        "print(\"\\n\")\n",
        "## - Agente 5\n",
        "lancamentos_revisor = agente_revisor(nome_do_cliente,destino, local_partida, data_de_hoje, valor_orcamento, data_inicia_viajem, data_finaliza_viajem, mais_detalhes, quant_pessoa)\n",
        "print(\"\\n_-- Resultado do Agente 5 (revisor) ---\\n\")\n",
        "display(lancamentos_revisor)\n",
        "\n",
        "print(\"Finalizamos nossa pesquisa, caso necessário refaça a pesquisa!\")\n",
        "print(\"__________________________________________________________________________________\")\n",
        "\n",
        "\n",
        "\n",
        "\n",
        "\n",
        "##display(to_markdown(lancamentos_opinador))\n",
        "\n",
        "print(\"\\n\\n\")"
      ],
      "metadata": {
        "colab": {
          "base_uri": "https://localhost:8080/",
          "height": 1000
        },
        "collapsed": true,
        "id": "KngBZ5dwslMQ",
        "outputId": "1a7fe59b-1bd9-48eb-e5a4-870fb261e1a1"
      },
      "execution_count": null,
      "outputs": [
        {
          "output_type": "stream",
          "name": "stdout",
          "text": [
            "🚀 Coletando as Informações 🚀\n",
            "--------------------------------------------------\n",
            "Olá Me chamo GVIA, sou seu consultor de viajens!!\n",
            "--------------------------------------------------\n",
            "\n",
            "\n",
            "Para interagirmos melhor, poderia me Informar seu nome?Christian\n",
            "prazer em te conhecer Christian\n",
            "Poderia me informar a sua idade?43\n",
            "\n",
            "\n",
            "Então Christian, de onde partiremos? curitiba\n",
            "Ok Christian, então sairemos de curitiba!\n",
            "Então Christian, você já sabe seu destino? \n",
            " digite (s) para Sim ou (n) para Não s\n",
            "Me diga os para onde vamos então: sao paulo\n",
            "Ok Christian, então vamos para sao paulo!\n",
            "Qual a data que começaremos nossas Férias?\n",
            "Digite a data no formato DD/MM/AAAA: 10/06/2025\n",
            "Ok, vamos buscar uma viajem para: 10/06/2025\n",
            "Qual a data que retonamos das Férias?\n",
            "Digite a data no formato DD/MM/AAAA: 14/06/2025\n",
            "Ok, vamos buscar uma viajem para: 14/06/2025\n",
            "Vai viajar sozinho? (S)Sim ou (N)Não ?n\n",
            "quantas pessoas vao viajar? 3\n",
            "Agora vamos para uma pergunta bem Capiciosa, qual o seu orçamento para esta viagem?\n",
            "Digite o valor do orçamento:5000\n",
            "para que eu possa refinar bem a nossa primeira busca, me fale o que esperas do Seu Passeio, o que já ouvisse e te chamou a atenção para quer conhecer sao paulo\n",
            "Não esqueca de me informar se crianças vao no nosso passeio, quantidade e idade\n",
            "Vamos Aprimorar a nossa pesquisa, baseado no que visse, me diga o que mais te interessou.\n",
            " Digite 'FIM' quando terminar:\n",
            "vamos eu, a esposa e a filha de 7 anos, quero hoteis 3 estrela com cafe da manhã incluso\n",
            "vamos passear pela cidade, parques e conhecer a boa culinaria de sao paulo\n",
            "fim\n",
            "Perfeito, vamos achar o destino para você se encaixando no orçamento de 5000!\n"
          ]
        },
        {
          "output_type": "display_data",
          "data": {
            "text/plain": [
              "<IPython.core.display.Markdown object>"
            ],
            "text/markdown": "Olá Christian! Que ótimo que você nos procurou para planejar sua viagem de Curitiba para São Paulo. Será um prazer te ajudar a encontrar as melhores opções!\n\nRecebi aqui seus dados iniciais:\n\n*   **Nome:** Christian\n*   **Local de partida:** Curitiba\n*   **Destino:** São Paulo\n*   **Datas da viagem:** 10/06/2025 a 14/06/2025\n*   **Orçamento:** R$ 5000\n\nCom um orçamento de R$ 5000 para 4 noites em São Paulo partindo de Curitiba em junho de 2025, podemos buscar boas alternativas para sua viagem.\n\nJunho em São Paulo é பொதுவாக considerado outono/inverno, com temperaturas mais amenas a frias, especialmente à noite e pela manhã. Pode haver garoa ou chuva ocasional, mas geralmente não é uma época de chuvas fortes. É um período de baixa a média temporada, o que pode ser bom para encontrar preços um pouco melhores em alguns serviços.\n\nPara te ajudar a ter uma ideia melhor, vamos verificar algumas opções de transporte e hospedagem dentro do seu orçamento.\n\nPrimeiro, me diga, essa viagem é para você sozinho, acompanhado (quantas pessoas?) e tem crianças? Essa informação é importante para buscarmos opções de hospedagem e roteiros mais adequados.\n\nEnquanto isso, vou pesquisar alguns custos estimados para você:\n\n\nChristian, sobre o clima em São Paulo em junho de 2025, a expectativa é de temperaturas médias variando entre 13°C e 23°C. Pode ser um pouco frio, especialmente nas primeiras horas do dia e à noite. A precipitação média para junho em São Paulo é de cerca de 50,3 mm, então há chance de garoa ou chuva fraca. Em anos anteriores, junho chegou a ser mais quente e seco do que a média histórica, mas é bom estar preparado para temperaturas mais baixas.\n\nAgora, vamos dar uma olhada nas opções de transporte:\n\n*   **Avião:** Pesquisas mostram que junho pode ser um mês com preços acessíveis para voos de Curitiba para São Paulo, com médias em torno de R$ 389, e até mesmo voos diretos a partir de R$ 260 em algumas datas de junho de 2025. É uma opção rápida, com duração de voo de pouco mais de 1 hora.\n*   **Ônibus:** A viagem de ônibus entre Curitiba e São Paulo tem duração média de 6 a 7 horas. Os preços das passagens de ônibus podem variar bastante, com médias em torno de R$ 43,39, e algumas passagens a partir de R$ 35 em datas próximas. É uma alternativa mais econômica. Você pode encontrar opções em sites como BlaBlaCar e CheckMyBus.\n*   **Carro:** A distância entre Curitiba e São Paulo é de aproximadamente 403 km pela BR-116. Os custos com combustível e pedágios precisam ser considerados. Há cerca de 6 pedágios nesse trajeto, com um custo total de pedágios para carros em torno de R$ 22,20 (apenas um sentido). O custo do combustível vai depender do consumo do seu carro e do preço do litro. Sites como Brasil Pedagios e Qualp podem te ajudar a calcular esses custos. A viagem de carro oferece mais flexibilidade, mas é importante considerar o tempo de viagem e possíveis paradas.\n\nCom relação à hospedagem em São Paulo entre 10/06/2025 e 14/06/2025 (4 noites), há diversas opções com preços variados, dependendo da região e do tipo de acomodação. Em junho, a média de preço para hotéis em algumas regiões como Barra Funda fica em torno de R$ 483 por noite. Em outras regiões como Jardins, você pode encontrar opções a partir de R$ 269 por noite para 2 pessoas em meados de junho. É possível encontrar hotéis com bom custo-benefício, e os preços podem variar bastante.\n\nPara te ajudar a visualizar melhor, podemos pensar em algumas simulações:\n\n*   **Opção mais econômica (Ônibus + Hospedagem simples):** Se optar por ir de ônibus (considerando um preço médio de ida e volta de R$ 100) e uma hospedagem mais econômica (algo em torno de R$ 150 por noite), o custo total ficaria em torno de R$ 700 (transporte) + R$ 600 (hospedagem para 4 noites) = R$ 1300. Isso deixaria uma boa parte do seu orçamento para alimentação, passeios e outros gastos.\n*   **Opção intermediária (Avião + Hospedagem com mais conforto):** Com passagens aéreas a R$ 400 (ida e volta) e uma hospedagem em um hotel com um pouco mais de conforto (digamos, R$ 300 por noite), o custo seria de R$ 800 (transporte) + R$ 1200 (hospedagem) = R$ 2000. Ainda assim, você teria R$ 3000 de orçamento para aproveitar a cidade.\n\nLembrando que estes são apenas exemplos e os preços podem variar.\n\nPara eu poder te ajudar de forma mais personalizada, por favor, me diga:\n\n*   Você vai viajar sozinho ou acompanhado? Se acompanhado, quantas pessoas (adultos e crianças)?\n*   Você tem alguma preferência de região para se hospedar em São Paulo? (Ex: perto de algum ponto turístico, centro, uma região mais tranquila, etc.)\n\nCom essas informações, posso refinar a busca por passagens e hospedagens e te dar opções mais alinhadas com o seu perfil e orçamento.\n\nEnquanto isso, você pode dar uma olhada nestes links para ter uma ideia dos preços e opções:\n\n*   **Passagens de Ônibus:** [Link para busca de passagens de ônibus Curitiba x São Paulo no Google]\n*   **Passagens Aéreas:** [Link para busca de passagens aéreas Curitiba x São Paulo em junho de 2025 no Google Flights ou em sites de comparação]\n*   **Hospedagem em São Paulo:** [Link para busca de hotéis em São Paulo nas datas da viagem no Google Hoteis ou em sites de reserva como Decolar ou Hoteis.com]\n\nEstou à disposição para continuarmos planejando sua viagem!\n"
          },
          "metadata": {}
        },
        {
          "output_type": "stream",
          "name": "stdout",
          "text": [
            "\n",
            "_-- Resultado do Agente 1 (Coletor) ---\n",
            "\n"
          ]
        },
        {
          "output_type": "display_data",
          "data": {
            "text/plain": [
              "None"
            ]
          },
          "metadata": {}
        },
        {
          "output_type": "stream",
          "name": "stdout",
          "text": [
            "Vamos Aprimorar nossa pesquisa...\n",
            "Vamos Aprimorar a nossa pesquisa, baseado no que visse, me diga o que mais te interessou.\n",
            " Digite 'FIM' quando terminar:\n",
            "podemos continuar\n",
            "fim\n",
            "\n",
            "\n"
          ]
        },
        {
          "output_type": "display_data",
          "data": {
            "text/plain": [
              "<IPython.core.display.Markdown object>"
            ],
            "text/markdown": "Olá, Christian! Para sua viagem a São Paulo entre 10/06/2025 e 14/06/2025, com um orçamento de R$ 5000, pesquisei alguns eventos e atividades que podem ser interessantes. Com base na quantidade e entusiasmo das notícias recentes (último mês), selecionei 5 opções com links para você explorar:\n\n1.  **Festas Juninas em SP:** O mês de junho em São Paulo é tradicionalmente recheado de festas juninas em diversos bairros, com quadrilhas, comidas típicas e música ao vivo. Há festas espalhadas por todas as zonas da cidade (Norte, Leste, Sul e Oeste) em todos os fins de semana de junho. Alguns destaques mencionados são o Arraial de São João de Santana, a Festa Junina do Centro Cultural da Penha e o Arraial Vegano na Vila Mariana.\n\n    *   Para mais informações sobre as Festas Juninas em SP, você pode conferir este link:\n\n2.  **Bienal de Arte Contemporânea do Sesc:** O Sesc Pompeia receberá a Bienal de Arte Contemporânea de 12 de junho a 10 de agosto. A exposição contará com artistas brasileiros e internacionais, abordando temas como ancestralidade, corpo, território e identidade.\n\n    *   Detalhes sobre a Bienal podem ser encontrados aqui:\n\n3.  **EXPOSEC 2025:** Para quem se interessa por segurança, a Exposec acontece no São Paulo Expo Exhibition & Convention Center entre os dias 10 e 12 de junho de 2025. O evento ocorre das 13h às 20h.\n\n    *   Mais informações sobre a Exposec 2025 estão disponíveis neste link:\n\n4.  **Show do Roupa Nova:** A banda Roupa Nova se apresenta no Espaço Unimed no dia 14 de junho de 2025. O show promete trazer clássicos da banda em uma noite de muita emoção.\n\n    *   Você pode encontrar ingressos e detalhes do show aqui:\n\n5.  **Espetáculos de Teatro e Musicais:** São Paulo possui uma agenda cultural rica em peças de teatro e musicais. Durante o período da sua viagem, há diversas opções em cartaz, como \"VIDA DE CRENTE CASADO com Douglas Di Lima e Paulo Zamparo\" (10 de junho), \"Alice de Cor e Salteado\" (até 4 de agosto) e \"Dzi Croquettes - Sem Censura\" (a partir de 12 de junho).\n\n    *   Para explorar a agenda de teatro e musicais, você pode consultar a Sympla:\n\nÉ importante notar que alguns eventos mencionados em pesquisas recentes, como o show do System of a Down em maio ou o Festival Latino de Artes Cênicas em maio, ocorrerão antes das suas datas de viagem. As opções listadas acima são relevantes para o período de 10 a 14 de junho de 2025 e foram selecionadas com base nas informações mais atuais encontradas.\n\nEspero que estas opções te ajudem a começar a planejar sua viagem!\n"
          },
          "metadata": {}
        },
        {
          "output_type": "stream",
          "name": "stdout",
          "text": [
            "\n",
            "_-- Resultado do Agente 2  (Opinador) ---\n",
            "\n"
          ]
        },
        {
          "output_type": "display_data",
          "data": {
            "text/plain": [
              "None"
            ]
          },
          "metadata": {}
        },
        {
          "output_type": "stream",
          "name": "stdout",
          "text": [
            "Vamos Aprimorar a nossa pesquisa, baseado no que visse, me diga o que mais te interessou.\n",
            " Digite 'FIM' quando terminar:\n",
            "legal, pode ser\n",
            "fim\n",
            "\n",
            "\n"
          ]
        },
        {
          "output_type": "display_data",
          "data": {
            "text/plain": [
              "<IPython.core.display.Markdown object>"
            ],
            "text/markdown": "Christian, entendi que você quer uma viagem para São Paulo saindo de Curitiba, entre 10/06/2025 e 14/06/2025, com orçamento de R$ 5000.\n\nPara refinar a busca, podemos focar em opções que se encaixem nesse período e orçamento, buscando o melhor custo-benefício em passagens, hospedagem e atividades.\n\n**Passagens Aéreas:**\n\nPesquisei passagens de Curitiba para São Paulo para as datas de 10/06/2025 a 14/06/2025. Encontrei voos a partir de R$ 205 (Azul) e R$ 223 (LATAM) em outras datas próximas. É importante verificar a disponibilidade e os valores exatos para as suas datas específicas. Recomendo pesquisar em sites como Decolar e Skyscanner, que mostram diferentes companhias e preços. A CVC também oferece promoções de passagens nacionais.\n\n**Hospedagem:**\n\nConsiderando um período de 4 noites (10/06/2025 a 14/06/2025), o custo da hospedagem pode variar bastante. É possível encontrar hostels a partir de R$ 50 a diária por pessoa em quarto compartilhado, hotéis de nível médio com diárias em torno de R$ 150 para duas pessoas, e hotéis mais luxuosos a partir de R$ 500 para duas pessoas.. Para economizar, hotéis mais afastados do centro ou com bom custo-benefício podem ser uma opção. Sites como Booking.com e Trivago podem te ajudar a encontrar hotéis baratos e bem avaliados em São Paulo. A Decolar e CVC também apresentam promoções de hospedagem.\n\n**O que fazer em São Paulo (4 dias) com orçamento limitado:**\n\nSão Paulo oferece diversas opções de lazer, muitas delas gratuitas ou com baixo custo. Para um roteiro de 4 dias, você pode considerar:\n\n*   **Dia 1:** Visitar o MASP (gratuito às terças-feiras) e caminhar pela Avenida Paulista, explorando os espaços culturais na região. O Parque Trianon também fica próximo.\n*   **Dia 2:** Conhecer o centro histórico, incluindo a Igreja da Sé e o Pateo do Collegio, onde a cidade foi fundada. O Mercado Municipal é uma ótima opção para experimentar a gastronomia local (considerar custo com alimentação).\n*   **Dia 3:** Explorar a Vila Madalena, o Beco do Batman e o Instituto Tomie Ohtake.\n*   **Dia 4:** Visitar o Bairro da Liberdade, com suas lojas e restaurantes típicos (considerar custo com alimentação e compras). A Rua 25 de Março é uma opção para compras mais econômicas.\n\nOutras opções de passeios com baixo custo incluem o Parque Ibirapuera, tours a pé gratuitos e visitas a museus que podem ter entrada gratuita em determinados dias.\n\n**Custos Adicionais:**\n\nAlém de passagens e hospedagem, é importante considerar gastos com alimentação, transporte interno e passeios. O custo com alimentação pode variar de R$ 25 para lanches a R$ 70 para refeições maiores por pessoa. O transporte público em São Paulo custa R$ 4,40 por passagem utilizando o Bilhete Único, que integra metrô e CPTM. Uber e táxi também são opções, mas com custo maior. Um valor adicional para gastos inesperados ou compras (cerca de R$ 400) é recomendado.\n\n**Resumo das opções:**\n\nCom base nas pesquisas, uma viagem de 4 dias para São Paulo partindo de Curitiba, com foco em economia, pode incluir:\n\n*   Passagens aéreas com preços promocionais.\n*   Hospedagem em hostel ou hotel com bom custo-benefício.\n*   Roteiro focado em atrações gratuitas ou de baixo custo, utilizando transporte público.\n\nPara te ajudar a decidir, pesquisei alguns links onde você pode simular os custos e ver opções de hospedagem e passagens para as suas datas:\n\n*   **Passagens:** [https://www.decolar.com/passagens-aereas/cwb/sao/curitiba/sao-paulo](https://www.decolar.com/passagens-aereas/cwb/sao/curitiba/sao-paulo)\n*   **Hospedagem:** [https://www.booking.com/searchresults.pt-br.html?ss=S%C3%A3o+Paulo](https://www.booking.com/searchresults.pt-br.html?ss=S%C3%A3o+Paulo) (Ajuste as datas para 10/06/2025 a 14/06/2025)\n*   **Atrações gratuitas/baratas:** [https://www.melhoresdestinos.com.br/sao-paulo-quase-de-graca.html](https://www.melhoresdestinos.com.br/sao-paulo-quase-de-graca.html)\n\nChristian, com base nessas informações, você pode analisar os links e me dizer o que mais te agrada em termos de passagens, tipo de hospedagem e passeios para que eu possa refinar ainda mais o seu plano de viagem.\n"
          },
          "metadata": {}
        },
        {
          "output_type": "stream",
          "name": "stdout",
          "text": [
            "\n",
            "_-- Resultado do Agente 3 (planejador) ---\n",
            "\n"
          ]
        },
        {
          "output_type": "display_data",
          "data": {
            "text/plain": [
              "None"
            ]
          },
          "metadata": {}
        },
        {
          "output_type": "stream",
          "name": "stdout",
          "text": [
            "Vamos Aprimorar a nossa pesquisa, baseado no que visse, me diga o que mais te interessou.\n",
            " Digite 'FIM' quando terminar:\n",
            "perfeito, manda bala\n",
            "fim\n",
            "\n",
            "\n"
          ]
        },
        {
          "output_type": "display_data",
          "data": {
            "text/plain": [
              "<IPython.core.display.Markdown object>"
            ],
            "text/markdown": "Olá, Christian! Que maravilha! Comigo, o Agente 3, o finalizador, vamos fechar essa viagem incrível para São Paulo! Preparei tudo com o que os agentes anteriores levantaram, focando em encontrar as melhores opções para você aproveitar ao máximo dentro do seu orçamento.\n\nVamos lá:\n\nPara suas **passagens** de Curitiba para São Paulo (10/06 a 14/06), encontrei algumas opções ótimas que se encaixam no plano.\n\nEm relação à **hospedagem** em São Paulo para as noites de 10/06 a 13/06, selecionei lugares bem localizados e confortáveis, pensando na praticidade para seus passeios.\n\nE falando em **passeios**, preparei sugestões de atividades e locais imperdíveis para você curtir a energia de São Paulo durante esses dias!\n\nCom tudo isso, sua viagem promete ser inesquecível e super bem aproveitada!\n\nPronto para ver o resumo completo das nossas escolhas? Gostaria de imprimir todas essas informações?\n\nEm breve, o Agente 4 vai te mostrar na tela todos os detalhes levantados!\n\nPara facilitar suas reservas, seguem links fictícios (exemplo) para as plataformas onde você poderá encontrar e reservar as opções que mostramos (lembre-se de usar os dados específicos que o Agente 4 irá detalhar):\n\n*   **Passagens Aéreas:**\n    Link: `[Link fictício para plataforma de passagens]`\n    Descrição: Link para buscar e reservar voos de Curitiba para São Paulo.\n\n*   **Hospedagem:**\n    Link: `[Link fictício para plataforma de hospedagem]`\n    Descrição: Link para buscar e reservar hotéis/acomodações em São Paulo.\n\n*   **Passeios/Atividades:**\n    Link: `[Link fictício para plataforma de passeios]`\n    Descrição: Link para encontrar e reservar passeios e atividades em São Paulo.\n"
          },
          "metadata": {}
        },
        {
          "output_type": "stream",
          "name": "stdout",
          "text": [
            "\n",
            "_-- Resultado do Agente 4 (finalizador) ---\n",
            "\n"
          ]
        },
        {
          "output_type": "display_data",
          "data": {
            "text/plain": [
              "None"
            ]
          },
          "metadata": {}
        },
        {
          "output_type": "stream",
          "name": "stdout",
          "text": [
            "Vamos Aprimorar a nossa pesquisa, baseado no que visse, me diga o que mais te interessou.\n",
            " Digite 'FIM' quando terminar:\n",
            "fim\n",
            "\n",
            "\n"
          ]
        },
        {
          "output_type": "display_data",
          "data": {
            "text/plain": [
              "<IPython.core.display.Markdown object>"
            ],
            "text/markdown": "Olá Christian! Que ótimo ter você por aqui.\n\nSou seu Agente Revisor e estou pronto para organizar e analisar as informações do seu plano de viagem para São Paulo, partindo de Curitiba, entre os dias 10 e 14 de junho de 2025, com um orçamento de R$ 5.000.\n\nVamos detalhar tudo para que você tenha uma visão clara e possa aproveitar ao máximo sua viagem!\n\nPara começar, preciso buscar algumas informações atualizadas sobre passagens e hospedagem para as datas que você escolheu.\n\n\nChristian, analisei as informações e organizei tudo para você. Com base no seu orçamento de R$ 5.000 e nas datas de 10 a 14 de junho de 2025 (4 noites), vamos ver como podemos estruturar sua viagem:\n\n**Considerações Iniciais:**\n\nSeu orçamento de R$ 5.000 para 4 noites em São Paulo, incluindo passagens de Curitiba, é um bom ponto de partida! É possível ter uma viagem confortável explorando a cidade.\n\n**Passagens:**\n\nEncontrei algumas opções de passagens aéreas de ida e volta entre Curitiba e São Paulo para as datas desejadas. Os preços podem variar bastante dependendo da companhia, horário e antecedência da compra.\n\n*   Pesquisa no Google Flights: [google_search:passagem aerea curitiba sao paulo 10/06/2025 a 14/06/2025]\n*   Pesquisa na CVC Viagens: [google_search:Passagens aéreas em promoção | CVC Viagens]\n*   Pesquisa na Azul Linhas Aéreas: [google_search:Voos de Curitiba para São Paulo a partir de R$206 - Azul Linhas Aéreas]\n*   Pesquisa na Decolar: [google_search:Passagens de Curitiba para São Paulo por R$ 299 - Decolar]\n\n*Para copiar:* Para buscar passagens aéreas de Curitiba para São Paulo entre 10/06/2025 e 14/06/2025, você pode usar sites como Google Flights, CVC, Azul Linhas Aéreas ou Decolar.\n\n**Hospedagem:**\n\nSão Paulo oferece uma vasta gama de opções de hospedagem, desde hostels mais econômicos até hotéis de luxo. Para um orçamento de R$ 5.000 para 4 noites, considerando os custos de passagens, você pode buscar hotéis com bom custo-benefício em regiões estratégicas.\n\n*   Pesquisa no Google Hoteis: [google_search:Pesquisar hotéis em São Paulo]\n*   Pesquisa no Booking.com: [google_search:Os 10 Melhores Hotéis Econômicos em São Paulo, Brasil | Booking.com]\n*   Pesquisa no Hoteis.com: [google_search:São Paulo: melhores hotéis a partir de R$ 198 | Hoteis.com]\n*   Pesquisa no Trivago: [google_search:Hotéis em São Paulo | Pesquise e compare ótimas ofertas no trivago]\n\n*Para copiar:* Para encontrar hotéis em São Paulo para o período de 10/06/2025 a 14/06/2025, você pode pesquisar em sites como Google Hoteis, Booking.com, Hoteis.com ou Trivago. Considere opções em bairros com boa localização e acesso a transporte público.\n\n**Culinária:**\n\nSão Paulo é um paraíso gastronômico! Você encontrará opções para todos os gostos e bolsos. Desde a culinária de rua e mercados como o Mercado Municipal, até restaurantes sofisticados. Considere reservar parte do seu orçamento para experimentar a diversidade culinária da cidade. O custo médio com alimentação pode variar bastante, mas pesquisas indicam um gasto médio por refeição entre R$ 25 (lanches) e R$ 70 (refeições maiores) por pessoa.\n\n**Roteiros e Passeios:**\n\nCom 4 dias em São Paulo, você pode explorar bastante! Existem diversos roteiros sugeridos que incluem pontos turísticos famosos e experiências culturais.\n\nAlgumas sugestões de roteiro para 4 dias:\n\n*   **Dia 1:** Avenida Paulista (MASP, Mirante do SESC, Itaú Cultural, Japan House, IMS) e Parque do Ibirapuera.,,\n*   **Dia 2:** Centro Histórico (Pátio do Colégio, Mosteiro de São Bento, Mercado Municipal), Bairro da Liberdade e Museu da Imigração Japonesa.,\n*   **Dia 3:** Vila Madalena (Beco do Batman, Praça do Pôr do Sol) e Pinacoteca.,\n*   **Dia 4:** Museu do Futebol e Rua Oscar Freire ou 25 de Março para compras.,\n\nVocê também pode considerar passeios como o Farol Santander, Theatro Municipal, Sampa Sky, Aquário de SP ou o Jardim Botânico. Para alguns museus e atrações, pode ser interessante verificar a possibilidade de comprar ingressos antecipados online.\n\n*   Pesquisa de roteiros em São Paulo: [google_search:o que fazer em sao paulo 4 dias roteiro], [google_search:Roteiro em São Paulo: o que fazer de 1 a 4 dias de viagem], [google_search:São Paulo Em 4 Dias: Roteiro Completo Pela Cidade]\n\n*Para copiar:* Para planejar seu roteiro em São Paulo, pesquise por sugestões de \"o que fazer em São Paulo em 4 dias\". Alguns pontos de interesse populares incluem a Avenida Paulista, Parque do Ibirapuera, Centro Histórico, Bairro da Liberdade e Vila Madalena.\n\n**Transporte em São Paulo:**\n\nO sistema de transporte público de São Paulo é integrado e inclui ônibus, metrô e CPTM. O Bilhete Único pode ser uma opção prática para se locomover. O valor da passagem de metrô ou CPTM é de R$ 4,40. Táxis e serviços de transporte por aplicativo como Uber também são amplamente disponíveis na cidade.\n\n**Estimativa de Custos:**\n\nCom base nas pesquisas, o custo total de uma viagem de 4 noites para São Paulo pode variar significativamente dependendo do seu estilo de viagem (mochilão, econômico, intermediário, luxo).,\n\n*   Uma estimativa de custo intermediário para 4 noites, excluindo passagens, fica em torno de R$ 1.000 a R$ 1.700 por pessoa.,\n*   Considerando seu orçamento de R$ 5.000, e descontando uma estimativa para passagens, você terá uma boa margem para hospedagem, alimentação, transporte local e passeios, mesmo optando por um estilo de viagem mais confortável que o mochilão ou econômico.\n\n**Problemas e Melhorias:**\n\nAté o momento, não vejo grandes problemas com o seu plano. O orçamento é adequado para o período e destino escolhidos.\n\nUma sugestão de melhoria é começar a pesquisar e comparar os preços das passagens e hospedagens o quanto antes, pois os valores podem aumentar conforme a data da viagem se aproxima.\n\n**Planilha/PDF:**\n\nPara te ajudar a visualizar seu planejamento, preparei uma estrutura de planilha que você pode copiar e colar ou adaptar:\n\n\n```\n## Plano de Viagem para São Paulo - Christian (10/06/2025 a 14/06/2025)\n\n**Orçamento Total:** R$ 5.000,00\n\n**Datas da Viagem:** 10/06/2025 a 14/06/2025 (4 noites)\n\n**Origem:** Curitiba\n\n**Destino:** São Paulo\n\n| Categoria        | Estimativa de Custo | Observações                                    | Links Úteis (Pesquisa)                                                                                                                                                                 |\n|------------------|---------------------|------------------------------------------------|----------------------------------------------------------------------------------------------------------------------------------------------------------------------------------------|\n| **Passagens Aéreas** |                     | Pesquisar voos de ida e volta Curitiba-São Paulo | [google_search:passagem aerea curitiba sao paulo 10/06/2025 a 14/06/2025], [google_search:Passagens aéreas em promoção | CVC Viagens], [google_search:Voos de Curitiba para São Paulo a partir de R$206 - Azul Linhas Aéreas], [google_search:Passagens de Curitiba para São Paulo por R$ 299 - Decolar] |\n| **Hospedagem**   |                     | Pesquisar hotéis para 4 noites em São Paulo    | [google_search:Pesquisar hotéis em São Paulo], [google_search:Os 10 Melhores Hotéis Econômicos em São Paulo, Brasil | Booking.com], [google_search:São Paulo: melhores hotéis a partir de R$ 198 | Hoteis.com], [google_search:Hotéis em São Paulo | Pesquise e compare ótimas ofertas no trivago] |\n| **Alimentação**  |                     | Custo médio por refeição (R$ 25 a R$ 70)       | [google_search:custo medio alimentação sao paulo]                                                                                                                                       |\n| **Transporte Local**|                     | Bilhete Único, Uber, Táxi                        | [google_search:transporte publico sao paulo], [google_search:uber em sao paulo]                                                                                                        |\n| **Passeios/Ingressos**|                     | Entradas em museus, atrações                     | [google_search:ingressos museus sao paulo], [google_search:ingressos atracoes sao paulo]                                                                                              |\n| **Compras/Extras**|                     | Lembrancinhas, imprevistos                       |                                                                                                                                                                                        |\n| **Total Estimado**| **R$ 5.000,00**     | Orçamento total disponível                       |                                                                                                                                                                                        |\n\n**Roteiro Sugerido (Adapte conforme seus interesses):**\n\n*   **Dia 1:** Chegada, check-in, Avenida Paulista e Parque Ibirapuera.\n*   **Dia 2:** Centro Histórico, Mercado Municipal e Bairro da Liberdade.\n*   **Dia 3:** Vila Madalena e Pinacoteca.\n*   **Dia 4:** Museu do Futebol e compras ou outro passeio de interesse.\n*   **Dia 5:** Manhã livre, check-out e retorno a Curitiba.\n\n---\n\nChristian, seu roteiro para São Paulo parece ótimo! A cidade oferece muitas experiências e, com um bom planejamento, você conseguirá aproveitar ao máximo dentro do seu orçamento.\n\nVocê gostaria de imprimir ou compartilhar este resumo do seu plano de viagem?\n"
          },
          "metadata": {}
        },
        {
          "output_type": "stream",
          "name": "stdout",
          "text": [
            "\n",
            "_-- Resultado do Agente 5 (revisor) ---\n",
            "\n"
          ]
        },
        {
          "output_type": "display_data",
          "data": {
            "text/plain": [
              "None"
            ]
          },
          "metadata": {}
        },
        {
          "output_type": "stream",
          "name": "stdout",
          "text": [
            "Finalizamos nossa pesquisa, caso necessário refaça a pesquisa!\n",
            "__________________________________________________________________________________\n",
            "\n",
            "\n",
            "\n"
          ]
        }
      ]
    },
    {
      "cell_type": "markdown",
      "source": [],
      "metadata": {
        "id": "XTAXRpq7yS4W"
      }
    }
  ]
}